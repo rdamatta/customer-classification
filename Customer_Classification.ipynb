{
 "cells": [
  {
   "cell_type": "markdown",
   "metadata": {},
   "source": [
    "# Customer classification with MATLAB "
   ]
  },
  {
   "cell_type": "markdown",
   "metadata": {},
   "source": [
    "Suppose that a financial services company wants to build a tool to classify customers as potential credit takers from an available pool of profiles. The quality of information obtained can be used to support decision making for conceding (or not) credit to a particular customer. Data-driven customer classification would be advantageous to accelerate credit analysis processes and also keep the default rate low.\n",
    "\n",
    "This mini-project reports the deployment of some _Machine Learning_ algorithms to classify different customer profiles. First, let's load the data."
   ]
  },
  {
   "cell_type": "code",
   "execution_count": null,
   "metadata": {},
   "outputs": [],
   "source": [
    "% Read dataset file and convert into a table\n",
    "data = readtable('./data/crx.data','Filetype', 'text');"
   ]
  },
  {
   "cell_type": "markdown",
   "metadata": {},
   "source": [
    "Checking the loaded data is always the best practice."
   ]
  },
  {
   "cell_type": "code",
   "execution_count": 227,
   "metadata": {},
   "outputs": [
    {
     "name": "stdout",
     "output_type": "stream",
     "text": [
      "\n",
      "Variables:\n",
      "\n",
      "    Var1: 690x1 cell array of character vectors\n",
      "\n",
      "    Var2: 690x1 double\n",
      "\n",
      "        Values:\n",
      "\n",
      "            Min             13.75  \n",
      "            Median          28.46  \n",
      "            Max             80.25  \n",
      "            NumMissing      12     \n",
      "\n",
      "    Var3: 690x1 double\n",
      "\n",
      "        Values:\n",
      "\n",
      "            Min            0  \n",
      "            Median      2.75  \n",
      "            Max           28  \n",
      "\n",
      "    Var4: 690x1 cell array of character vectors\n",
      "\n",
      "    Var5: 690x1 cell array of character vectors\n",
      "\n",
      "    Var6: 690x1 cell array of character vectors\n",
      "\n",
      "    Var7: 690x1 cell array of character vectors\n",
      "\n",
      "    Var8: 690x1 double\n",
      "\n",
      "        Values:\n",
      "\n",
      "            Min            0  \n",
      "            Median         1  \n",
      "            Max         28.5  \n",
      "\n",
      "    Var9: 690x1 cell array of character vectors\n",
      "\n",
      "    Var10: 690x1 cell array of character vectors\n",
      "\n",
      "    Var11: 690x1 double\n",
      "\n",
      "        Values:\n",
      "\n",
      "            Min           0   \n",
      "            Median        0   \n",
      "            Max          67   \n",
      "\n",
      "    Var12: 690x1 cell array of character vectors\n",
      "\n",
      "    Var13: 690x1 cell array of character vectors\n",
      "\n",
      "    Var14: 690x1 double\n",
      "\n",
      "        Values:\n",
      "\n",
      "            Min             0     \n",
      "            Median          160   \n",
      "            Max             2000  \n",
      "            NumMissing      13    \n",
      "\n",
      "    Var15: 690x1 double\n",
      "\n",
      "        Values:\n",
      "\n",
      "            Min            0  \n",
      "            Median         5  \n",
      "            Max        1e+05  \n",
      "\n",
      "    Var16: 690x1 cell array of character vectors\n",
      "\n"
     ]
    }
   ],
   "source": [
    "summary(data)"
   ]
  },
  {
   "cell_type": "markdown",
   "metadata": {},
   "source": [
    "There are 690 customer profiles. For each profile, there are 15 features including 6 with numeric values and 9 categorical attributes. The dataset of profiles was provided as a raw data file with the features' names undisclosed to protect the source’s interest in the details."
   ]
  },
  {
   "cell_type": "markdown",
   "metadata": {},
   "source": [
    "## Data pre-processing\n",
    "\n",
    "There are some missing values that we have to care about. "
   ]
  },
  {
   "cell_type": "code",
   "execution_count": 248,
   "metadata": {},
   "outputs": [],
   "source": [
    "% Remove missing values\n",
    "data = rmmissing(data);"
   ]
  },
  {
   "cell_type": "markdown",
   "metadata": {},
   "source": [
    "Let's create a logical array to track categorical features and spot them in further steps."
   ]
  },
  {
   "cell_type": "code",
   "execution_count": 249,
   "metadata": {},
   "outputs": [],
   "source": [
    "% Logical array keeping track of categorical attributes\n",
    "names = data.Properties.VariableNames;\n",
    "[nrows, ncols] = size(data);\n",
    "category = false(1,ncols);\n",
    "for i = 1:ncols\n",
    "    if isa(data.(names{i}),'cell') || isa(data.(names{i}),'nominal')\n",
    "        category(i) = true;     \n",
    "    end\n",
    "end\n",
    "catPred = category(1:end-1);"
   ]
  },
  {
   "cell_type": "markdown",
   "metadata": {},
   "source": [
    "Now we can convert those categorical attributes into numerical."
   ]
  },
  {
   "cell_type": "code",
   "execution_count": 250,
   "metadata": {},
   "outputs": [],
   "source": [
    "% Convert categorical values to numerical\n",
    "for i = 1:ncols\n",
    "    if isa(data.(names{i}),'cell') || isa(data.(names{i}),'nominal')\n",
    "        [GN, ~, data.(names{i})] = unique(data.(names{i}));    \n",
    "    end\n",
    "end"
   ]
  },
  {
   "cell_type": "markdown",
   "metadata": {},
   "source": [
    "Before continue, we need to separate the labels from the attributes."
   ]
  },
  {
   "cell_type": "code",
   "execution_count": 251,
   "metadata": {},
   "outputs": [
    {
     "name": "stdout",
     "output_type": "stream",
     "text": [
      "Credit Approval\n",
      "  Value    Count   Percent\n",
      "      1      299     44.89%\n",
      "      2      367     55.11%\n"
     ]
    }
   ],
   "source": [
    "% Set the random number seed to make the results repeatable \n",
    "rng('default');\n",
    "\n",
    "% Segregate the data into response and predictors\n",
    "y = data.Var16; % Response\n",
    "disp('Credit Approval')\n",
    "tabulate(y)"
   ]
  },
  {
   "cell_type": "code",
   "execution_count": 252,
   "metadata": {},
   "outputs": [],
   "source": [
    "X = table2array(data(:,1:end-1)); % Predictor matrix"
   ]
  },
  {
   "cell_type": "markdown",
   "metadata": {},
   "source": [
    "The next step is to create the _Test_ and _Training_ subsets in a 70:30 proportion.\n",
    "\n",
    "Data division into training and test sets is common in the field of machine learning. The reason is simple: if you try to test the model with data you've learned (and since the aim is to predict using unknown data) you get something unreal."
   ]
  },
  {
   "cell_type": "code",
   "execution_count": 253,
   "metadata": {},
   "outputs": [],
   "source": [
    "% Hold 30% of the data, selected randomly, for test\n",
    "cv = cvpartition(height(data),'holdout',0.30);"
   ]
  },
  {
   "cell_type": "code",
   "execution_count": 254,
   "metadata": {},
   "outputs": [],
   "source": [
    "% Training set\n",
    "Xtrain = X(training(cv),:);\n",
    "ytrain = y(training(cv),:);\n",
    "% Test set\n",
    "Xtest = X(test(cv),:);\n",
    "ytest = y(test(cv),:);"
   ]
  },
  {
   "cell_type": "code",
   "execution_count": 255,
   "metadata": {},
   "outputs": [
    {
     "name": "stdout",
     "output_type": "stream",
     "text": [
      "Training Set\n",
      "  Value    Count   Percent\n",
      "      1      218     46.68%\n",
      "      2      249     53.32%\n",
      "Test Set\n",
      "  Value    Count   Percent\n",
      "      1       81     40.70%\n",
      "      2      118     59.30%\n"
     ]
    }
   ],
   "source": [
    "disp('Training Set')\n",
    "tabulate(ytrain)\n",
    "disp('Test Set')\n",
    "tabulate(ytest)"
   ]
  },
  {
   "cell_type": "markdown",
   "metadata": {},
   "source": [
    "As we can see, the profiles are divided into 47% to 53% between the two classes for the _Training_ subset and 41% and 59% for the _Test_ subset."
   ]
  },
  {
   "cell_type": "markdown",
   "metadata": {},
   "source": [
    "## K-Nearest Neighbors\n",
    "\n",
    "In this algorithm, the nearest k (k = 1,2,3,…) instances are calculated to the test instance. To determine the class label, a single model is built on this set of k nearest neighbors. The majority class among the k neighbors is identified as the corresponding label.\n",
    "\n",
    "A good characteristic of the k-nearest neighbor approach to classification is that it can be used for practically any type of data, as long as distances can be quantified between instances by using a distance function.\n",
    "\n",
    "Next, we train this type of classifier, make some predictions, and print the _Confusion Matrix_."
   ]
  },
  {
   "cell_type": "code",
   "execution_count": 256,
   "metadata": {},
   "outputs": [
    {
     "name": "stdout",
     "output_type": "stream",
     "text": [
      "\n",
      "C_knn =\n",
      "\n",
      "   72.8395   27.1605\n",
      "   16.1017   83.8983\n",
      "\n"
     ]
    }
   ],
   "source": [
    "%% Nearest Neighbors\n",
    "\n",
    "% Train the classifier\n",
    "knn = ClassificationKNN.fit(Xtrain,ytrain,'Distance','seuclidean');\n",
    "\n",
    "% Make a prediction for the test set\n",
    "y_knn = knn.predict(Xtest);\n",
    "\n",
    "% Compute the confusion matrix\n",
    "C_knn = confusionmat(ytest,y_knn);\n",
    "\n",
    "% Examine the confusion matrix for each class as a percentage of the true class\n",
    "C_knn = bsxfun(@rdivide,C_knn,sum(C_knn,2)) * 100\n"
   ]
  },
  {
   "cell_type": "markdown",
   "metadata": {},
   "source": [
    "## Fuzzy K-Nearest Neighbors\n",
    "\n",
    "This algorithm is an enhanced k-nearest Neighbors’ version. It builds on a class membership learning scheme which gives each training instance a range of memberships defining its variable membership in each class. After the learning process, the final classification is carried out in a similar way to the K-Nearest Neighbors’ algorithm but each neighbor uses its membership array for the class assignment rule instead of tacitly accept one class as in the crisp version. For an overlapping class pattern on data, this can decrease the misclassification rate.\n",
    "\n",
    "This time we predefine the number of neighbors (_k_), normalize the features, train the model, and perform some predictions. In the end, we print the _Confusion Matrix_."
   ]
  },
  {
   "cell_type": "code",
   "execution_count": 262,
   "metadata": {},
   "outputs": [
    {
     "name": "stdout",
     "output_type": "stream",
     "text": [
      "\n",
      "C_fknn =\n",
      "\n",
      "   82.7160   17.2840\n",
      "   15.2542   84.7458\n",
      "\n"
     ]
    }
   ],
   "source": [
    "%% Fuzzy Nearest Neighbors\n",
    "\n",
    "% Number of neighbors\n",
    "k_values = 4;\n",
    "\n",
    "% Normalize Predictors\n",
    "XXtrain = minmaxnorm(Xtrain,0,1);\n",
    "XXtest = minmaxnorm(Xtest,0,1);\n",
    "\n",
    "% Classify using Fuzzy Nearest Neighbors\n",
    "[y_fknn,memberships, numhits] = fknn(XXtrain, ytrain, XXtest, ytest, k_values, 0, 'true');\n",
    "\n",
    "% Compute the confusion matrix\n",
    "C_fknn = confusionmat(ytest,y_fknn);\n",
    "\n",
    "% Examine the confusion matrix for each class as a percentage of the true class\n",
    "C_fknn = bsxfun(@rdivide,C_fknn,sum(C_fknn,2)) * 100"
   ]
  },
  {
   "cell_type": "markdown",
   "metadata": {},
   "source": [
    "## Similarity Measure\n",
    "\n",
    "The main idea of this algorithm is to use an ideal vector for each class and compute similarity from the dataset’s instances to these ideal vectors (one for each class). Instances’ vectors are assigned to the class of the ideal vector with the highest similarity to them. The comparison can be made with similarities of the generalized Łukasiewicz equation.\n",
    "\n",
    "The algorithm quickly learns the classification task and can solve problems that are not linearly separable. It also explains swimmingly how and why the data is classified, all based on the principle of similarity.\n",
    "\n",
    "First, we define the hyperparameters of the similarity measure, then normalize the features, compute the ideal vectors for each class, and finally perform classification using the similarity measure. The result is again in the form of a _Confusion Matrix_."
   ]
  },
  {
   "cell_type": "code",
   "execution_count": 266,
   "metadata": {},
   "outputs": [
    {
     "name": "stdout",
     "output_type": "stream",
     "text": [
      "\n",
      "C_sim =\n",
      "\n",
      "   87.6543   12.3457\n",
      "   23.7288   76.2712\n",
      "\n"
     ]
    }
   ],
   "source": [
    "%% Similarity Measure\n",
    "\n",
    "% Parameters for p, m and similarity measure \n",
    "param = [3.1,2.75,1];\n",
    "\n",
    "% Normalize Predictors\n",
    "XXtrain = minmaxnorm(Xtrain,0,1);\n",
    "XXtest = minmaxnorm(Xtest,0,1);\n",
    "\n",
    "% Compute ideal vectors for each class\n",
    "ideals = idealvectors([XXtrain,ytrain], param);\n",
    "\n",
    "% Classify data using Lukasiewicz similarity measure\n",
    "[y_sim, Simil] = classifier(XXtest, ideals, param);\n",
    "\n",
    "% Compute the confusion matrix\n",
    "C_sim = confusionmat(ytest,y_sim);\n",
    "\n",
    "% Examine the confusion matrix for each class as a percentage of the true class\n",
    "C_sim = bsxfun(@rdivide,C_sim,sum(C_sim,2)) * 100"
   ]
  },
  {
   "cell_type": "markdown",
   "metadata": {},
   "source": [
    "## Logistic Regression\n",
    "\n",
    "Logistic regression is commonly employed to estimate the likelihood that an instance belongs to a certain class. If the predicted probability is greater than 50 percent, the model predicts that the instance is in that class, otherwise it predicts that it does not. It's therefore a binary classifier.\n",
    "\n",
    "It works just like a linear regression model but instead of explicitly outputting the outcome as the result of linear regression, a logistic regression model computes a weighted sum of the input features (plus a bias term) and outputs the logistic of this result., i.e., the predicted probability.\n",
    "\n",
    "As previously, we train the classifier, make some predictions, and print the _Confusion Matrix_."
   ]
  },
  {
   "cell_type": "code",
   "execution_count": 267,
   "metadata": {},
   "outputs": [
    {
     "name": "stdout",
     "output_type": "stream",
     "text": [
      "Warning: Iteration limit reached.\n",
      "> In glmfit (line 338)\n",
      "In GeneralizedLinearModel/fitter (line 668)\n",
      "In classreg.regr/FitObject/doFit (line 94)\n",
      "In GeneralizedLinearModel.fit (line 982)\n",
      "Warning: Regression design matrix is rank deficient to within machine precision.\n",
      "> In classreg.regr/CompactTermsRegression/checkDesignRank (line 35)\n",
      "In GeneralizedLinearModel.fit (line 1001)\n",
      "\n",
      "C_glm =\n",
      "\n",
      "   82.7160   17.2840\n",
      "   15.2542   84.7458\n",
      "\n"
     ]
    }
   ],
   "source": [
    "%% Logistic Regression\n",
    "\n",
    "% Train the classifier\n",
    "glm = GeneralizedLinearModel.fit(Xtrain,double(ytrain)-1,'linear','Distribution','binomial','link','logit','CategoricalVars',catPred);\n",
    "\n",
    "% Make a prediction for the test set\n",
    "y_glm = glm.predict(Xtest);\n",
    "y_glm = round(y_glm) + 1;\n",
    "\n",
    "% Compute the confusion matrix\n",
    "C_glm = confusionmat(ytest,y_glm);\n",
    "\n",
    "% Examine the confusion matrix for each class as a percentage of the true class\n",
    "C_glm = bsxfun(@rdivide,C_glm,sum(C_glm,2)) * 100"
   ]
  },
  {
   "cell_type": "markdown",
   "metadata": {},
   "source": [
    "## Decision Tree\n",
    "\n",
    "The decision tree is one of the most insightful classification methods. It partitions the input space hierarchically until they enter a subspace with a class name. We can imagine the data instance entering the tree from the root to be labeled.\n",
    "\n",
    "A decision tree is like a rooted, directed flowchart-like diagram – each inner node is a partitioning decision and each leaf node is mapped to a prediction of a class name. Every inner node is programmed by dividing the domain by one (or more) attributes of the data. The data instance is sent to one of the leaf nodes based on a splitting rule. Rule checking and forwarding are repeated until a leaf node is reached.\n",
    "\n",
    "The workflow is no different: we train the classifier, make some predictions, and print the _Confusion Matrix_."
   ]
  },
  {
   "cell_type": "code",
   "execution_count": 268,
   "metadata": {},
   "outputs": [
    {
     "name": "stdout",
     "output_type": "stream",
     "text": [
      "\n",
      "C_t =\n",
      "\n",
      "   85.1852   14.8148\n",
      "   15.2542   84.7458\n",
      "\n"
     ]
    }
   ],
   "source": [
    "%% Decision Trees\n",
    "\n",
    "% Train the classifier\n",
    "t = ClassificationTree.fit(Xtrain,ytrain,'CategoricalPredictors',catPred);\n",
    "\n",
    "% Make a prediction for the test set\n",
    "Y_t = t.predict(Xtest);\n",
    "\n",
    "% Compute the confusion matrix\n",
    "C_t = confusionmat(ytest,Y_t);\n",
    "\n",
    "% Examine the confusion matrix for each class as a percentage of the true class\n",
    "C_t = bsxfun(@rdivide,C_t,sum(C_t,2)) * 100"
   ]
  },
  {
   "cell_type": "markdown",
   "metadata": {},
   "source": [
    "## Discriminant Analysis\n",
    "\n",
    "The use of linear discriminants is an alternative way to perform classification tasks, which specifically try to construct directions in the feature space where the different classes are better segregated. \n",
    "\n",
    "In the discriminant approach, the main idea is to evaluate the directions of the data where instances are segregated as well as possible. Iteratively the subspace of the lower dimension is created.\n",
    "\n",
    "In many ways, discriminant analysis has similarities with multiple regression analysis. The main difference between these two approaches is that regression analysis is concerned with a continuous dependent variable while in the discriminant analysis there must be a discrete dependent variable.\n",
    "\n",
    "Again, we train the classifier, make some predictions, and print the _Confusion Matrix_."
   ]
  },
  {
   "cell_type": "code",
   "execution_count": 269,
   "metadata": {},
   "outputs": [
    {
     "name": "stdout",
     "output_type": "stream",
     "text": [
      "\n",
      "C_da =\n",
      "\n",
      "   85.1852   14.8148\n",
      "   19.4915   80.5085\n",
      "\n"
     ]
    }
   ],
   "source": [
    "%% Discriminant Analysis\n",
    "\n",
    "% Train the classifier\n",
    "da = ClassificationDiscriminant.fit(Xtrain,ytrain,'discrimType','diaglinear');\n",
    "\n",
    "% Make a prediction for the test set\n",
    "y_da = da.predict(Xtest);\n",
    "\n",
    "% Compute the confusion matrix\n",
    "C_da = confusionmat(ytest,y_da);\n",
    "\n",
    "% Examine the confusion matrix for each class as a percentage of the true class\n",
    "C_da = bsxfun(@rdivide,C_da,sum(C_da,2)) * 100"
   ]
  },
  {
   "cell_type": "markdown",
   "metadata": {},
   "source": [
    "## Model comparison\n",
    "\n",
    "After the run of the above models it showed that best result with regards to F-score came\n",
    "from the Decision Tree followed by the Logistic Regression. Below are the results:"
   ]
  },
  {
   "cell_type": "code",
   "execution_count": 295,
   "metadata": {},
   "outputs": [
    {
     "name": "stdout",
     "output_type": "stream",
     "text": [
      "\n",
      "Fscore_knn =\n",
      "\n",
      "    0.7710\n",
      "\n",
      "\n",
      "Fscore_fknn =\n",
      "\n",
      "    0.8356\n",
      "\n",
      "\n",
      "Fscore_sim =\n",
      "\n",
      "    0.8293\n",
      "\n",
      "\n",
      "Fscore_glm =\n",
      "\n",
      "    0.8356\n",
      "\n",
      "\n",
      "Fscore_t =\n",
      "\n",
      "    0.8500\n",
      "\n",
      "\n",
      "Fscore_da =\n",
      "\n",
      "    0.8324\n",
      "\n"
     ]
    }
   ],
   "source": [
    "%% Compare Results\n",
    "% F-score = 2*TP /(2*TP + FP + FN)\n",
    "\n",
    "Fscore_knn = 2*C_knn(1)/(2*C_knn(1)+C_knn(2)+C_knn(3))\n",
    "Fscore_fknn = 2*C_fknn(1)/(2*C_fknn(1)+C_fknn(2)+C_fknn(3))\n",
    "Fscore_sim = 2*C_sim(1)/(2*C_sim(1)+C_sim(2)+C_sim(3))\n",
    "Fscore_glm = 2*C_glm(1)/(2*C_glm(1)+C_glm(2)+C_glm(3))\n",
    "Fscore_t = 2*C_t(1)/(2*C_t(1)+C_t(2)+C_t(3))\n",
    "Fscore_da = 2*C_da(1)/(2*C_da(1)+C_da(2)+C_da(3))"
   ]
  },
  {
   "cell_type": "markdown",
   "metadata": {},
   "source": [
    "The F-score is a way of combining the precision and recall of the model, and it is defined as the harmonic mean of the model's precision and recall. The F-score is the preferred measure of performance specially when classes are unbalanced."
   ]
  },
  {
   "cell_type": "code",
   "execution_count": 299,
   "metadata": {
    "scrolled": false
   },
   "outputs": [
    {
     "data": {
      "image/png": "[encoded data removed]",
      "text/plain": [
       "<IPython.core.display.Image object>"
      ]
     },
     "metadata": {},
     "output_type": "display_data"
    }
   ],
   "source": [
    "Cmat = [C_knn C_fknn C_sim C_glm C_t C_da];\n",
    "labels = {'k-nearest Neighbors', 'Fuzzy k-nearest Neighbors','Simmilarity', 'Logistic Regression', 'Decision Tree', 'Discriminant Analysis'};\n",
    "\n",
    "comparisonPlot( Cmat, labels )"
   ]
  },
  {
   "cell_type": "markdown",
   "metadata": {},
   "source": [
    "From the figure above we can check that **Decision Tree** was the best method in terms of F-score and also got the best equilibrium between elements of the _Confusion Matrix_, i.e., the number of False Negatives and False Positives are equivalent (approximately 15 for each). \n",
    "\n",
    "Analyzing this information in the context of the financial domain means that 15 “good” customer profiles would be discarded as “not worthy” which may result in a loss of opportunity to profit by issuing them some kind of credit. On the other hand, the same number of False Positives was obtained, which means that some form of credit would have been granted to “bad” customers who may default resulting in losses for the financial institution)."
   ]
  },
  {
   "cell_type": "markdown",
   "metadata": {},
   "source": [
    "## Conclusion\n",
    "\n",
    "This mini-project reports the deployment of six methods of classification based on _Machine Learning_ algorithms to segment customer profiles into classes. From the six methods, two are not so popular besides one of them, Similarity Measure, being user friendly in terms of deployment and communication of results (in lay’s words).\n",
    "\n",
    "Surprisingly, one of the most popular methods, i.e., K-Nearest Neighbors did not perform well in comparison with the others and this may due to the characteristic of the dataset. Along with the F-score performance, it was considered the equilibrium between the elements of the _Confusion Matrix_ which would bring an advantageous aspect if the domain of the classification task is considered in the analysis."
   ]
  }
 ],
 "metadata": {
  "kernelspec": {
   "display_name": "Matlab",
   "language": "matlab",
   "name": "matlab"
  },
  "language_info": {
   "codemirror_mode": "octave",
   "file_extension": ".m",
   "help_links": [
    {
     "text": "MetaKernel Magics",
     "url": "https://metakernel.readthedocs.io/en/latest/source/README.html"
    }
   ],
   "mimetype": "text/x-octave",
   "name": "matlab",
   "version": "0.16.10"
  }
 },
 "nbformat": 4,
 "nbformat_minor": 4
}
